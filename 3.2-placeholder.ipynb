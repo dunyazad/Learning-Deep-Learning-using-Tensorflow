{
 "cells": [
  {
   "cell_type": "code",
   "execution_count": 1,
   "id": "fitted-costa",
   "metadata": {},
   "outputs": [],
   "source": [
    "import tensorflow as tf"
   ]
  },
  {
   "cell_type": "code",
   "execution_count": 2,
   "id": "communist-romania",
   "metadata": {},
   "outputs": [],
   "source": [
    "import numpy as np"
   ]
  },
  {
   "cell_type": "code",
   "execution_count": 15,
   "id": "minimal-reputation",
   "metadata": {},
   "outputs": [],
   "source": [
    "@tf.function\n",
    "def add_two_values(x, y):\n",
    "    return x + y"
   ]
  },
  {
   "cell_type": "code",
   "execution_count": 17,
   "id": "moral-institute",
   "metadata": {},
   "outputs": [
    {
     "name": "stdout",
     "output_type": "stream",
     "text": [
      "7.5\n"
     ]
    }
   ],
   "source": [
    "print(add_two_values(3, 4.5).numpy())"
   ]
  },
  {
   "cell_type": "code",
   "execution_count": 19,
   "id": "motivated-invalid",
   "metadata": {},
   "outputs": [
    {
     "name": "stdout",
     "output_type": "stream",
     "text": [
      "[3 7]\n"
     ]
    }
   ],
   "source": [
    "print(add_two_values(np.array([1, 3]), np.array([2, 4])).numpy())"
   ]
  },
  {
   "cell_type": "code",
   "execution_count": 20,
   "id": "available-vanilla",
   "metadata": {},
   "outputs": [],
   "source": [
    "@tf.function\n",
    "def add_two_values_multiply_three(x, y):\n",
    "    return 3 * add_two_values(x, y)"
   ]
  },
  {
   "cell_type": "code",
   "execution_count": 23,
   "id": "saved-terminology",
   "metadata": {},
   "outputs": [
    {
     "name": "stdout",
     "output_type": "stream",
     "text": [
      "22.5\n"
     ]
    }
   ],
   "source": [
    "print(add_two_values_multiply_three(3, 4.5).numpy())"
   ]
  },
  {
   "cell_type": "code",
   "execution_count": null,
   "id": "missing-laser",
   "metadata": {},
   "outputs": [],
   "source": []
  }
 ],
 "metadata": {
  "kernelspec": {
   "display_name": "Python 3",
   "language": "python",
   "name": "python3"
  },
  "language_info": {
   "codemirror_mode": {
    "name": "ipython",
    "version": 3
   },
   "file_extension": ".py",
   "mimetype": "text/x-python",
   "name": "python",
   "nbconvert_exporter": "python",
   "pygments_lexer": "ipython3",
   "version": "3.8.7"
  }
 },
 "nbformat": 4,
 "nbformat_minor": 5
}
