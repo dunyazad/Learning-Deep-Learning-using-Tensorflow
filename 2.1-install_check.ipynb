{
 "cells": [
  {
   "cell_type": "code",
   "execution_count": 2,
   "id": "mature-april",
   "metadata": {},
   "outputs": [],
   "source": [
    "import tensorflow as tf"
   ]
  },
  {
   "cell_type": "code",
   "execution_count": 3,
   "id": "local-salem",
   "metadata": {},
   "outputs": [],
   "source": [
    "hello = tf.constant('Hello, Tensorflow!')"
   ]
  },
  {
   "cell_type": "code",
   "execution_count": 5,
   "id": "crude-domain",
   "metadata": {},
   "outputs": [
    {
     "name": "stdout",
     "output_type": "stream",
     "text": [
      "b'Hello, Tensorflow!'\n"
     ]
    }
   ],
   "source": [
    "print(hello.numpy())"
   ]
  },
  {
   "cell_type": "code",
   "execution_count": 6,
   "id": "approximate-lunch",
   "metadata": {},
   "outputs": [],
   "source": [
    "a = tf.constant(10)"
   ]
  },
  {
   "cell_type": "code",
   "execution_count": 7,
   "id": "corporate-contemporary",
   "metadata": {},
   "outputs": [],
   "source": [
    "b = tf.constant(32)"
   ]
  },
  {
   "cell_type": "code",
   "execution_count": 9,
   "id": "minor-contrast",
   "metadata": {},
   "outputs": [
    {
     "name": "stdout",
     "output_type": "stream",
     "text": [
      "42\n"
     ]
    }
   ],
   "source": [
    "print((a+b).numpy())"
   ]
  },
  {
   "cell_type": "code",
   "execution_count": null,
   "id": "needed-lighting",
   "metadata": {},
   "outputs": [],
   "source": []
  }
 ],
 "metadata": {
  "kernelspec": {
   "display_name": "Python 3",
   "language": "python",
   "name": "python3"
  },
  "language_info": {
   "codemirror_mode": {
    "name": "ipython",
    "version": 3
   },
   "file_extension": ".py",
   "mimetype": "text/x-python",
   "name": "python",
   "nbconvert_exporter": "python",
   "pygments_lexer": "ipython3",
   "version": "3.8.7"
  }
 },
 "nbformat": 4,
 "nbformat_minor": 5
}
